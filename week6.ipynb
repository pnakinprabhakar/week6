{
  "cells": [
    {
      "cell_type": "markdown",
      "metadata": {
        "id": "view-in-github",
        "colab_type": "text"
      },
      "source": [
        "<a href=\"https://colab.research.google.com/github/pnakinprabhakar/week6/blob/main/week6.ipynb\" target=\"_parent\"><img src=\"https://colab.research.google.com/assets/colab-badge.svg\" alt=\"Open In Colab\"/></a>"
      ]
    },
    {
      "cell_type": "markdown",
      "metadata": {
        "id": "A32uJCrZbWRf"
      },
      "source": [
        "Task: File Ingestion and Schema validation\n",
        "Take any csv/text file of 2+ GB of your choice. --- (You can do this assignment on Google colab)\n",
        "\n",
        "Read the file ( Present approach of reading the file )\n",
        "\n",
        "Try different methods of file reading eg: Dask, Modin, Ray, pandas and present your findings in term of computational efficiency\n",
        "\n",
        "Perform basic validation on data columns : eg: remove special character , white spaces from the col name\n",
        "\n",
        "As you already know the schema hence create a YAML file and write the column name in YAML file. --define separator of\n",
        "read and write file, column name in YAML\n",
        "\n",
        "Validate number of columns and column name of ingested file with YAML.\n",
        "\n",
        "Write the file in pipe separated text file (|) in gz format.\n",
        "\n",
        "Create a summary of the file:\n",
        "\n",
        "Total number of rows,\n",
        "\n",
        "total number of columns\n",
        "\n",
        "file size"
      ]
    },
    {
      "cell_type": "code",
      "execution_count": null,
      "metadata": {
        "id": "sgHCHg_6E6-G"
      },
      "outputs": [],
      "source": [
        "import os \n",
        "import time"
      ]
    },
    {
      "cell_type": "code",
      "execution_count": null,
      "metadata": {
        "id": "I1ohHPWn3JRA",
        "outputId": "8ae93c2b-845c-49ec-a419-4b6630c5af1e"
      },
      "outputs": [
        {
          "name": "stdout",
          "output_type": "stream",
          "text": [
            "Collecting dask\n",
            "  Downloading dask-2023.2.0-py3-none-any.whl (1.2 MB)\n",
            "Collecting partd>=0.3.10\n",
            "  Downloading partd-1.3.0-py3-none-any.whl (18 kB)\n",
            "Collecting fsspec>=0.6.0\n",
            "  Downloading fsspec-2023.1.0-py3-none-any.whl (143 kB)\n",
            "Requirement already satisfied: click>=7.0 in c:\\pyhton37\\lib\\site-packages (from dask) (8.0.1)\n",
            "Collecting pyyaml>=5.3.1\n",
            "  Downloading PyYAML-6.0-cp39-cp39-win_amd64.whl (151 kB)\n",
            "Requirement already satisfied: packaging>=20.0 in c:\\pyhton37\\lib\\site-packages (from dask) (21.3)\n",
            "Collecting cloudpickle>=1.1.1\n",
            "  Downloading cloudpickle-2.2.1-py3-none-any.whl (25 kB)\n",
            "Requirement already satisfied: toolz>=0.8.2 in c:\\pyhton37\\lib\\site-packages (from dask) (0.11.2)\n",
            "Requirement already satisfied: colorama in c:\\pyhton37\\lib\\site-packages (from click>=7.0->dask) (0.4.4)\n",
            "Requirement already satisfied: pyparsing!=3.0.5,>=2.0.2 in c:\\pyhton37\\lib\\site-packages (from packaging>=20.0->dask) (2.4.7)\n",
            "Collecting locket\n",
            "  Downloading locket-1.0.0-py2.py3-none-any.whl (4.4 kB)\n",
            "Installing collected packages: locket, pyyaml, partd, fsspec, cloudpickle, dask\n",
            "Successfully installed cloudpickle-2.2.1 dask-2023.2.0 fsspec-2023.1.0 locket-1.0.0 partd-1.3.0 pyyaml-6.0\n"
          ]
        },
        {
          "name": "stderr",
          "output_type": "stream",
          "text": [
            "WARNING: You are using pip version 21.2.1; however, version 23.0.1 is available.\n",
            "You should consider upgrading via the 'c:\\pyhton37\\python.exe -m pip install --upgrade pip' command.\n"
          ]
        }
      ],
      "source": [
        "! pip install dask"
      ]
    },
    {
      "cell_type": "code",
      "execution_count": null,
      "metadata": {
        "id": "UVnrAut8eBky"
      },
      "outputs": [],
      "source": [
        "from dask import dataframe as dd"
      ]
    },
    {
      "cell_type": "code",
      "execution_count": null,
      "metadata": {
        "colab": {
          "base_uri": "https://localhost:8080/"
        },
        "id": "3umbxD0geN3u",
        "outputId": "34d53ac3-db44-49bf-c524-7d10f2cbce66"
      },
      "outputs": [
        {
          "name": "stdout",
          "output_type": "stream",
          "text": [
            "Read csv with dask =  0.03203392028808594 sec\n"
          ]
        }
      ],
      "source": [
        "start = time.time()\n",
        "dask_df = dd.read_csv(\"imdb.csv\")\n",
        "end = time.time()\n",
        "print('Read csv with dask = ',(end-start),'sec')"
      ]
    },
    {
      "cell_type": "code",
      "execution_count": null,
      "metadata": {
        "colab": {
          "base_uri": "https://localhost:8080/"
        },
        "id": "ITNYqnHAevq7",
        "outputId": "b74726e6-e3df-4953-d411-c9beed57efe4"
      },
      "outputs": [
        {
          "name": "stdout",
          "output_type": "stream",
          "text": [
            "Read csv with Pandas 0.008001089096069336 sec\n"
          ]
        }
      ],
      "source": [
        "import pandas as pd\n",
        "start = time.time()\n",
        "df = pd.read_csv('imdb.csv')\n",
        "end = time.time()\n",
        "print(\"Read csv with Pandas\",(end-start),\"sec\")"
      ]
    },
    {
      "cell_type": "markdown",
      "metadata": {
        "id": "-hvrIk1vfEdm"
      },
      "source": [
        "Validation"
      ]
    },
    {
      "cell_type": "code",
      "execution_count": null,
      "metadata": {
        "id": "iY7AP5OXfAm3"
      },
      "outputs": [],
      "source": [
        "import logging\n",
        "import os\n",
        "import subprocess\n",
        "import yaml\n",
        "import pandas as pd\n",
        "import datetime \n",
        "import gc\n",
        "import re"
      ]
    },
    {
      "cell_type": "code",
      "execution_count": null,
      "metadata": {
        "colab": {
          "base_uri": "https://localhost:8080/"
        },
        "id": "pPs-Q6Rufofb",
        "outputId": "38470737-9623-4dcb-9fb1-d85846397c2d"
      },
      "outputs": [
        {
          "name": "stdout",
          "output_type": "stream",
          "text": [
            "Writing testutility.py\n"
          ]
        }
      ],
      "source": [
        "%%writefile testutility.py\n",
        "\n",
        "\n",
        "\n",
        "def read_config_file(filepath):\n",
        "    with open(filepath, 'r') as stream:\n",
        "        try:\n",
        "            return yaml.safe_load(stream)\n",
        "        except yaml.YAMLError as exc:\n",
        "            logging.error(exc)\n",
        "\n",
        "\n",
        "\n",
        "def col_header_val(df,table_config):\n",
        "    '''\n",
        "    replace whitespaces in the column\n",
        "    and standardized column names\n",
        "    '''\n",
        "    df.columns = df.columns.str.lower()\n",
        "    df.columns = df.columns.str.replace('[^\\w]','_',regex=True)\n",
        "    df.columns = list(map(lambda x: x.strip('_'), list(df.columns)))\n",
        "    df.columns = list(map(lambda x: replacer(x,'_'), list(df.columns)))\n",
        "    expected_col = list(map(lambda x: x.lower(),  table_config['columns']))\n",
        "    expected_col.sort()\n",
        "    df.columns =list(map(lambda x: x.lower(), list(df.columns)))\n",
        "    df = df.reindex(sorted(df.columns), axis=1)\n",
        "    if len(df.columns) == len(expected_col) and list(expected_col)  == list(df.columns):\n",
        "        print(\"column name and column length validation passed\")\n",
        "        return 1\n",
        "    else:\n",
        "        print(\"column name and column length validation failed\")\n",
        "        mismatched_columns_file = list(set(df.columns).difference(expected_col))\n",
        "        print(\"Following File columns are not in the YAML file\",mismatched_columns_file)\n",
        "        missing_YAML_file = list(set(expected_col).difference(df.columns))\n",
        "        print(\"Following YAML columns are not in the file uploaded\",missing_YAML_file)\n",
        "        logging.info(f'df columns: {df.columns}')\n",
        "        logging.info(f'expected columns: {expected_col}')\n",
        "        return 0"
      ]
    },
    {
      "cell_type": "code",
      "execution_count": null,
      "metadata": {
        "colab": {
          "base_uri": "https://localhost:8080/"
        },
        "id": "YZdZ1R--gW8c",
        "outputId": "f5b3db68-66ac-4e04-ca5a-a94cbd4abe53"
      },
      "outputs": [
        {
          "name": "stdout",
          "output_type": "stream",
          "text": [
            "Overwriting file.yaml\n"
          ]
        }
      ],
      "source": [
        "%%writefile movie.yaml\n",
        "file_type: csv\n",
        "dataset_name: test\n",
        "file_name: imdb\n",
        "table_name: edsurv\n",
        "inbound_delimiter: \",\"\n",
        "outbound_delimiter: \"|\"\n",
        "skip_leading_rows: 1\n",
        "columns: \n",
        "        - rank\n",
        "        - name\n",
        "        - year\n",
        "        - rating\n",
        "        - genre\n",
        "        - certificate\n",
        "        - run_time\n",
        "        - tagline\n",
        "        - budget\n",
        "        - box_office\n",
        "        - casts\n",
        "        - directors\n",
        "        - writers"
      ]
    },
    {
      "cell_type": "code",
      "execution_count": null,
      "metadata": {
        "colab": {
          "base_uri": "https://localhost:8080/"
        },
        "id": "8b5KQZp4toVY",
        "outputId": "dc1c3f25-e90c-4092-9773-eb687493d49d"
      },
      "outputs": [
        {
          "name": "stdout",
          "output_type": "stream",
          "text": [
            "Requirement already satisfied: PyYAML in c:\\pyhton37\\lib\\site-packages (6.0)\n"
          ]
        },
        {
          "name": "stderr",
          "output_type": "stream",
          "text": [
            "WARNING: You are using pip version 21.2.1; however, version 23.0.1 is available.\n",
            "You should consider upgrading via the 'c:\\pyhton37\\python.exe -m pip install --upgrade pip' command.\n"
          ]
        }
      ],
      "source": [
        "!pip install PyYAML"
      ]
    },
    {
      "cell_type": "code",
      "execution_count": null,
      "metadata": {
        "id": "EoDstlWL3JRF",
        "outputId": "5fc80f85-a7da-45d6-8840-f6f8b9ebac52"
      },
      "outputs": [
        {
          "name": "stdout",
          "output_type": "stream",
          "text": [
            "Collecting utility\n",
            "  Downloading utility-1.0.tar.gz (3.1 kB)\n",
            "Building wheels for collected packages: utility\n",
            "  Building wheel for utility (setup.py): started\n",
            "  Building wheel for utility (setup.py): finished with status 'done'\n",
            "  Created wheel for utility: filename=utility-1.0-py3-none-any.whl size=3831 sha256=47ce7069a3e6b8bdbc4d1bcde87c3128b97987c1c6f7d9ea60e7e905a38772a1\n",
            "  Stored in directory: c:\\users\\admin\\appdata\\local\\pip\\cache\\wheels\\5c\\f4\\ee\\6ac70a2b3218653fb6229f5f1157ac819a05f0419f4ac898fa\n",
            "Successfully built utility\n",
            "Installing collected packages: utility\n",
            "Successfully installed utility-1.0\n"
          ]
        },
        {
          "name": "stderr",
          "output_type": "stream",
          "text": [
            "WARNING: You are using pip version 21.2.1; however, version 23.0.1 is available.\n",
            "You should consider upgrading via the 'c:\\pyhton37\\python.exe -m pip install --upgrade pip' command.\n"
          ]
        }
      ],
      "source": [
        "!pip install utility "
      ]
    },
    {
      "cell_type": "code",
      "execution_count": null,
      "metadata": {
        "id": "tMerMm3ruD2D"
      },
      "outputs": [],
      "source": [
        "import yaml\n",
        "import testutility as util\n"
      ]
    },
    {
      "cell_type": "code",
      "execution_count": null,
      "metadata": {
        "id": "lUOaKS9muIfr"
      },
      "outputs": [],
      "source": [
        "config_data = util.read_config_file(\"file.yaml\")"
      ]
    },
    {
      "cell_type": "code",
      "execution_count": null,
      "metadata": {
        "id": "n1sm2xLzu7Iu",
        "outputId": "b94f2b37-a255-42f1-f016-120614133bb0"
      },
      "outputs": [
        {
          "data": {
            "text/plain": [
              "','"
            ]
          },
          "execution_count": 43,
          "metadata": {},
          "output_type": "execute_result"
        }
      ],
      "source": [
        "config_data['inbound_delimiter']"
      ]
    },
    {
      "cell_type": "code",
      "execution_count": null,
      "metadata": {
        "id": "rPD7P6W63JRG",
        "outputId": "535f23f8-3a7e-4065-a6aa-e4cdee6a2016"
      },
      "outputs": [
        {
          "data": {
            "text/plain": [
              "{'file_type': 'csv',\n",
              " 'dataset_name': 'test',\n",
              " 'file_name': 'imdb',\n",
              " 'table_name': 'edsurv',\n",
              " 'inbound_delimiter': ',',\n",
              " 'outbound_delimiter': '|',\n",
              " 'skip_leading_rows': 1,\n",
              " 'columns': ['rank',\n",
              "  'name',\n",
              "  'year',\n",
              "  'rating',\n",
              "  'genre',\n",
              "  'certificate',\n",
              "  'run_time',\n",
              "  'tagline',\n",
              "  'budget',\n",
              "  'box_office',\n",
              "  'casts',\n",
              "  'directors',\n",
              "  'writers']}"
            ]
          },
          "execution_count": 44,
          "metadata": {},
          "output_type": "execute_result"
        }
      ],
      "source": [
        "config_data"
      ]
    },
    {
      "cell_type": "code",
      "execution_count": null,
      "metadata": {
        "id": "S8MqihUF3JRG",
        "outputId": "ebeb296e-f85f-4936-8e5b-51366407a826"
      },
      "outputs": [
        {
          "name": "stderr",
          "output_type": "stream",
          "text": [
            "c:\\pyhton37\\lib\\site-packages\\IPython\\core\\interactiveshell.py:3398: FutureWarning: In a future version of pandas all arguments of read_csv except for the argument 'filepath_or_buffer' will be keyword-only\n",
            "  exec(code_obj, self.user_global_ns, self.user_ns)\n"
          ]
        },
        {
          "data": {
            "text/html": [
              "<div>\n",
              "<style scoped>\n",
              "    .dataframe tbody tr th:only-of-type {\n",
              "        vertical-align: middle;\n",
              "    }\n",
              "\n",
              "    .dataframe tbody tr th {\n",
              "        vertical-align: top;\n",
              "    }\n",
              "\n",
              "    .dataframe thead th {\n",
              "        text-align: right;\n",
              "    }\n",
              "</style>\n",
              "<table border=\"1\" class=\"dataframe\">\n",
              "  <thead>\n",
              "    <tr style=\"text-align: right;\">\n",
              "      <th></th>\n",
              "      <th>rank</th>\n",
              "      <th>name</th>\n",
              "      <th>year</th>\n",
              "      <th>rating</th>\n",
              "      <th>genre</th>\n",
              "      <th>certificate</th>\n",
              "      <th>run_time</th>\n",
              "      <th>tagline</th>\n",
              "      <th>budget</th>\n",
              "      <th>box_office</th>\n",
              "      <th>casts</th>\n",
              "      <th>directors</th>\n",
              "      <th>writers</th>\n",
              "    </tr>\n",
              "  </thead>\n",
              "  <tbody>\n",
              "    <tr>\n",
              "      <th>0</th>\n",
              "      <td>1</td>\n",
              "      <td>The Shawshank Redemption</td>\n",
              "      <td>1994</td>\n",
              "      <td>9.3</td>\n",
              "      <td>Drama</td>\n",
              "      <td>R</td>\n",
              "      <td>2h 22m</td>\n",
              "      <td>Fear can hold you prisoner. Hope can set you f...</td>\n",
              "      <td>25000000</td>\n",
              "      <td>28884504</td>\n",
              "      <td>Tim Robbins,Morgan Freeman,Bob Gunton,William ...</td>\n",
              "      <td>Frank Darabont</td>\n",
              "      <td>Stephen King,Frank Darabont</td>\n",
              "    </tr>\n",
              "    <tr>\n",
              "      <th>1</th>\n",
              "      <td>2</td>\n",
              "      <td>The Godfather</td>\n",
              "      <td>1972</td>\n",
              "      <td>9.2</td>\n",
              "      <td>Crime,Drama</td>\n",
              "      <td>R</td>\n",
              "      <td>2h 55m</td>\n",
              "      <td>An offer you can't refuse.</td>\n",
              "      <td>6000000</td>\n",
              "      <td>250341816</td>\n",
              "      <td>Marlon Brando,Al Pacino,James Caan,Diane Keato...</td>\n",
              "      <td>Francis Ford Coppola</td>\n",
              "      <td>Mario Puzo,Francis Ford Coppola</td>\n",
              "    </tr>\n",
              "    <tr>\n",
              "      <th>2</th>\n",
              "      <td>3</td>\n",
              "      <td>The Dark Knight</td>\n",
              "      <td>2008</td>\n",
              "      <td>9.0</td>\n",
              "      <td>Action,Crime,Drama</td>\n",
              "      <td>PG-13</td>\n",
              "      <td>2h 32m</td>\n",
              "      <td>Why So Serious?</td>\n",
              "      <td>185000000</td>\n",
              "      <td>1006234167</td>\n",
              "      <td>Christian Bale,Heath Ledger,Aaron Eckhart,Mich...</td>\n",
              "      <td>Christopher Nolan</td>\n",
              "      <td>Jonathan Nolan,Christopher Nolan,David S. Goyer</td>\n",
              "    </tr>\n",
              "    <tr>\n",
              "      <th>3</th>\n",
              "      <td>4</td>\n",
              "      <td>The Godfather Part II</td>\n",
              "      <td>1974</td>\n",
              "      <td>9.0</td>\n",
              "      <td>Crime,Drama</td>\n",
              "      <td>R</td>\n",
              "      <td>3h 22m</td>\n",
              "      <td>All the power on earth can't change destiny.</td>\n",
              "      <td>13000000</td>\n",
              "      <td>47961919</td>\n",
              "      <td>Al Pacino,Robert De Niro,Robert Duvall,Diane K...</td>\n",
              "      <td>Francis Ford Coppola</td>\n",
              "      <td>Francis Ford Coppola,Mario Puzo</td>\n",
              "    </tr>\n",
              "    <tr>\n",
              "      <th>4</th>\n",
              "      <td>5</td>\n",
              "      <td>12 Angry Men</td>\n",
              "      <td>1957</td>\n",
              "      <td>9.0</td>\n",
              "      <td>Crime,Drama</td>\n",
              "      <td>Approved</td>\n",
              "      <td>1h 36m</td>\n",
              "      <td>Life Is In Their Hands -- Death Is On Their Mi...</td>\n",
              "      <td>350000</td>\n",
              "      <td>955</td>\n",
              "      <td>Henry Fonda,Lee J. Cobb,Martin Balsam,John Fie...</td>\n",
              "      <td>Sidney Lumet</td>\n",
              "      <td>Reginald Rose</td>\n",
              "    </tr>\n",
              "  </tbody>\n",
              "</table>\n",
              "</div>"
            ],
            "text/plain": [
              "   rank                      name  year  rating               genre  \\\n",
              "0     1  The Shawshank Redemption  1994     9.3               Drama   \n",
              "1     2             The Godfather  1972     9.2         Crime,Drama   \n",
              "2     3           The Dark Knight  2008     9.0  Action,Crime,Drama   \n",
              "3     4     The Godfather Part II  1974     9.0         Crime,Drama   \n",
              "4     5              12 Angry Men  1957     9.0         Crime,Drama   \n",
              "\n",
              "  certificate run_time                                            tagline  \\\n",
              "0           R   2h 22m  Fear can hold you prisoner. Hope can set you f...   \n",
              "1           R   2h 55m                         An offer you can't refuse.   \n",
              "2       PG-13   2h 32m                                    Why So Serious?   \n",
              "3           R   3h 22m       All the power on earth can't change destiny.   \n",
              "4    Approved   1h 36m  Life Is In Their Hands -- Death Is On Their Mi...   \n",
              "\n",
              "      budget  box_office                                              casts  \\\n",
              "0   25000000    28884504  Tim Robbins,Morgan Freeman,Bob Gunton,William ...   \n",
              "1    6000000   250341816  Marlon Brando,Al Pacino,James Caan,Diane Keato...   \n",
              "2  185000000  1006234167  Christian Bale,Heath Ledger,Aaron Eckhart,Mich...   \n",
              "3   13000000    47961919  Al Pacino,Robert De Niro,Robert Duvall,Diane K...   \n",
              "4     350000         955  Henry Fonda,Lee J. Cobb,Martin Balsam,John Fie...   \n",
              "\n",
              "              directors                                          writers  \n",
              "0        Frank Darabont                      Stephen King,Frank Darabont  \n",
              "1  Francis Ford Coppola                  Mario Puzo,Francis Ford Coppola  \n",
              "2     Christopher Nolan  Jonathan Nolan,Christopher Nolan,David S. Goyer  \n",
              "3  Francis Ford Coppola                  Francis Ford Coppola,Mario Puzo  \n",
              "4          Sidney Lumet                                    Reginald Rose  "
            ]
          },
          "execution_count": 45,
          "metadata": {},
          "output_type": "execute_result"
        }
      ],
      "source": [
        "file_type = config_data['file_type']\n",
        "source_file = \"./\"+config_data['file_name'] + f'.{file_type}'\n",
        "df = pd.read_csv(source_file,config_data['inbound_delimiter'])\n",
        "df.head()"
      ]
    },
    {
      "cell_type": "code",
      "execution_count": null,
      "metadata": {
        "id": "fy5Osi1d3JRH",
        "outputId": "f8ebad2e-6048-40e6-eab9-ccd9bf1fb573"
      },
      "outputs": [
        {
          "name": "stdout",
          "output_type": "stream",
          "text": [
            "column name and column length validation passed\n"
          ]
        },
        {
          "data": {
            "text/plain": [
              "1"
            ]
          },
          "execution_count": 46,
          "metadata": {},
          "output_type": "execute_result"
        }
      ],
      "source": [
        "util.col_header_val(df,config_data)"
      ]
    },
    {
      "cell_type": "code",
      "execution_count": null,
      "metadata": {
        "id": "zgAIOstj3JRH",
        "outputId": "70015f70-7567-41ca-eeaf-bfa09c9384e8"
      },
      "outputs": [
        {
          "name": "stdout",
          "output_type": "stream",
          "text": [
            "Columns in CSV file are : Index(['rank', 'name', 'year', 'rating', 'genre', 'certificate', 'run_time',\n",
            "       'tagline', 'budget', 'box_office', 'casts', 'directors', 'writers'],\n",
            "      dtype='object')\n",
            "Columns in YAML file are  ['rank', 'name', 'year', 'rating', 'genre', 'certificate', 'run_time', 'tagline', 'budget', 'box_office', 'casts', 'directors', 'writers']\n"
          ]
        }
      ],
      "source": [
        "print(\"Columns in CSV file are :\",df.columns)\n",
        "print(\"Columns in YAML file are \",config_data['columns'])"
      ]
    },
    {
      "cell_type": "code",
      "execution_count": null,
      "metadata": {
        "id": "C2Y31Wz03JRH",
        "outputId": "7f046374-6e9e-4ef0-a741-93f0408f913a"
      },
      "outputs": [
        {
          "name": "stdout",
          "output_type": "stream",
          "text": [
            "column name and column length validation passed\n",
            "Validation Pass\n"
          ]
        }
      ],
      "source": [
        "if util.col_header_val(df,config_data) == 1:\n",
        "    print(\"Validation Pass\")\n",
        "else:\n",
        "    print(\"Validation Failed\")"
      ]
    },
    {
      "cell_type": "code",
      "execution_count": null,
      "metadata": {
        "id": "2mOWH8do3JRH"
      },
      "outputs": [],
      "source": []
    }
  ],
  "metadata": {
    "colab": {
      "provenance": [],
      "include_colab_link": true
    },
    "kernelspec": {
      "display_name": "Python 3",
      "language": "python",
      "name": "python3"
    },
    "language_info": {
      "codemirror_mode": {
        "name": "ipython",
        "version": 3
      },
      "file_extension": ".py",
      "mimetype": "text/x-python",
      "name": "python",
      "nbconvert_exporter": "python",
      "pygments_lexer": "ipython3",
      "version": "3.9.6"
    },
    "vscode": {
      "interpreter": {
        "hash": "c024d31bca1d055f94f7476a57fb2c3a7410a48bc332a1e3994d6dc659bbbb45"
      }
    }
  },
  "nbformat": 4,
  "nbformat_minor": 0
}